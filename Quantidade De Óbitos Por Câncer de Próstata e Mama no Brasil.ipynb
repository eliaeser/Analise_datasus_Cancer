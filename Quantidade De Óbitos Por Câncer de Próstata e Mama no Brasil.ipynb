{
 "cells": [
  {
   "cell_type": "markdown",
   "metadata": {},
   "source": [
    "# Quantidade De Óbitos Por Câncer de Próstata e Mama no Brasil"
   ]
  },
  {
   "cell_type": "markdown",
   "metadata": {},
   "source": [
    "##### Análise sobre óbitos por câncer no Brail para fins universitários, criado por *Elieser de França Costa* e *Larissa Aparecida Olimpio* alunos da Faculdade de Tecnologia do Estado de São Paulo - Professor Jessen Vidal. Será apresentado uma análise com as porcentagens e quantidades de mortes por câncer em relação aos óbitos totais do Brasil, a partir de 1979 até 2018, dados encontrados neste <a href=\"https://mortalidade.inca.gov.br/MortalidadeWeb/pages/Modelo01/consultar.xhtml#panelResultado\">link</a> do <a href=\"https://datasus.saude.gov.br/cancer-sitio-do-inca/\">datasus</a> . "
   ]
  },
  {
   "cell_type": "code",
   "execution_count": 34,
   "metadata": {},
   "outputs": [],
   "source": [
    "import pandas as pd\n",
    "import seaborn as sb\n",
    "import matplotlib.pyplot as plt\n",
    "low_memory=False\n",
    "%matplotlib inline\n",
    "pd.options.display.max_columns = 80\n",
    "pd.options.display.max_rows = 90"
   ]
  },
  {
   "cell_type": "code",
   "execution_count": 35,
   "metadata": {
    "scrolled": false
   },
   "outputs": [
    {
     "data": {
      "text/html": [
       "<div>\n",
       "<style scoped>\n",
       "    .dataframe tbody tr th:only-of-type {\n",
       "        vertical-align: middle;\n",
       "    }\n",
       "\n",
       "    .dataframe tbody tr th {\n",
       "        vertical-align: top;\n",
       "    }\n",
       "\n",
       "    .dataframe thead th {\n",
       "        text-align: right;\n",
       "    }\n",
       "</style>\n",
       "<table border=\"1\" class=\"dataframe\">\n",
       "  <thead>\n",
       "    <tr style=\"text-align: right;\">\n",
       "      <th></th>\n",
       "      <th>ANO</th>\n",
       "      <th>OBITO_TOTAL</th>\n",
       "      <th>OBITO_CANCER</th>\n",
       "      <th>PERCENTUAL</th>\n",
       "    </tr>\n",
       "  </thead>\n",
       "  <tbody>\n",
       "    <tr>\n",
       "      <th>0</th>\n",
       "      <td>1979</td>\n",
       "      <td>371490</td>\n",
       "      <td>3465</td>\n",
       "      <td>0.93</td>\n",
       "    </tr>\n",
       "    <tr>\n",
       "      <th>1</th>\n",
       "      <td>1980</td>\n",
       "      <td>375821</td>\n",
       "      <td>3683</td>\n",
       "      <td>0.98</td>\n",
       "    </tr>\n",
       "    <tr>\n",
       "      <th>2</th>\n",
       "      <td>1981</td>\n",
       "      <td>373917</td>\n",
       "      <td>3868</td>\n",
       "      <td>1.03</td>\n",
       "    </tr>\n",
       "    <tr>\n",
       "      <th>3</th>\n",
       "      <td>1982</td>\n",
       "      <td>368409</td>\n",
       "      <td>3959</td>\n",
       "      <td>1.07</td>\n",
       "    </tr>\n",
       "    <tr>\n",
       "      <th>4</th>\n",
       "      <td>1983</td>\n",
       "      <td>374795</td>\n",
       "      <td>4207</td>\n",
       "      <td>1.12</td>\n",
       "    </tr>\n",
       "    <tr>\n",
       "      <th>5</th>\n",
       "      <td>1984</td>\n",
       "      <td>387720</td>\n",
       "      <td>4382</td>\n",
       "      <td>1.13</td>\n",
       "    </tr>\n",
       "    <tr>\n",
       "      <th>6</th>\n",
       "      <td>1985</td>\n",
       "      <td>387694</td>\n",
       "      <td>4517</td>\n",
       "      <td>1.17</td>\n",
       "    </tr>\n",
       "    <tr>\n",
       "      <th>7</th>\n",
       "      <td>1986</td>\n",
       "      <td>397897</td>\n",
       "      <td>4669</td>\n",
       "      <td>1.17</td>\n",
       "    </tr>\n",
       "    <tr>\n",
       "      <th>8</th>\n",
       "      <td>1987</td>\n",
       "      <td>395126</td>\n",
       "      <td>4947</td>\n",
       "      <td>1.25</td>\n",
       "    </tr>\n",
       "    <tr>\n",
       "      <th>9</th>\n",
       "      <td>1988</td>\n",
       "      <td>416655</td>\n",
       "      <td>5131</td>\n",
       "      <td>1.23</td>\n",
       "    </tr>\n",
       "    <tr>\n",
       "      <th>10</th>\n",
       "      <td>1989</td>\n",
       "      <td>413124</td>\n",
       "      <td>5456</td>\n",
       "      <td>1.32</td>\n",
       "    </tr>\n",
       "  </tbody>\n",
       "</table>\n",
       "</div>"
      ],
      "text/plain": [
       "     ANO  OBITO_TOTAL  OBITO_CANCER  PERCENTUAL\n",
       "0   1979       371490          3465        0.93\n",
       "1   1980       375821          3683        0.98\n",
       "2   1981       373917          3868        1.03\n",
       "3   1982       368409          3959        1.07\n",
       "4   1983       374795          4207        1.12\n",
       "5   1984       387720          4382        1.13\n",
       "6   1985       387694          4517        1.17\n",
       "7   1986       397897          4669        1.17\n",
       "8   1987       395126          4947        1.25\n",
       "9   1988       416655          5131        1.23\n",
       "10  1989       413124          5456        1.32"
      ]
     },
     "execution_count": 35,
     "metadata": {},
     "output_type": "execute_result"
    }
   ],
   "source": [
    "filename = 'Modelo01_20200707234421.csv'\n",
    "df = pd.read_csv(filename, delimiter=\";\", encoding= \"latin1\", skiprows=2, error_bad_lines=False, decimal=',')\n",
    "df.head(11)"
   ]
  },
  {
   "cell_type": "code",
   "execution_count": 36,
   "metadata": {},
   "outputs": [
    {
     "data": {
      "text/plain": [
       "ANO               int64\n",
       "OBITO_TOTAL       int64\n",
       "OBITO_CANCER      int64\n",
       "PERCENTUAL      float64\n",
       "dtype: object"
      ]
     },
     "execution_count": 36,
     "metadata": {},
     "output_type": "execute_result"
    }
   ],
   "source": [
    "df.dtypes"
   ]
  },
  {
   "cell_type": "code",
   "execution_count": 37,
   "metadata": {
    "scrolled": true
   },
   "outputs": [
    {
     "data": {
      "text/plain": [
       "Index(['ANO', 'OBITO_TOTAL', 'OBITO_CANCER', 'PERCENTUAL'], dtype='object')"
      ]
     },
     "execution_count": 37,
     "metadata": {},
     "output_type": "execute_result"
    }
   ],
   "source": [
    "df.columns"
   ]
  },
  {
   "cell_type": "code",
   "execution_count": 38,
   "metadata": {},
   "outputs": [
    {
     "data": {
      "text/plain": [
       "(40, 4)"
      ]
     },
     "execution_count": 38,
     "metadata": {},
     "output_type": "execute_result"
    }
   ],
   "source": [
    "df.shape"
   ]
  },
  {
   "cell_type": "code",
   "execution_count": 39,
   "metadata": {
    "scrolled": false
   },
   "outputs": [
    {
     "name": "stdout",
     "output_type": "stream",
     "text": [
      "<class 'pandas.core.frame.DataFrame'>\n",
      "RangeIndex: 40 entries, 0 to 39\n",
      "Data columns (total 4 columns):\n",
      "ANO             40 non-null int64\n",
      "OBITO_TOTAL     40 non-null int64\n",
      "OBITO_CANCER    40 non-null int64\n",
      "PERCENTUAL      40 non-null float64\n",
      "dtypes: float64(1), int64(3)\n",
      "memory usage: 1.3 KB\n"
     ]
    }
   ],
   "source": [
    "df.info()"
   ]
  },
  {
   "cell_type": "code",
   "execution_count": 40,
   "metadata": {
    "scrolled": false
   },
   "outputs": [
    {
     "data": {
      "text/html": [
       "<div>\n",
       "<style scoped>\n",
       "    .dataframe tbody tr th:only-of-type {\n",
       "        vertical-align: middle;\n",
       "    }\n",
       "\n",
       "    .dataframe tbody tr th {\n",
       "        vertical-align: top;\n",
       "    }\n",
       "\n",
       "    .dataframe thead th {\n",
       "        text-align: right;\n",
       "    }\n",
       "</style>\n",
       "<table border=\"1\" class=\"dataframe\">\n",
       "  <thead>\n",
       "    <tr style=\"text-align: right;\">\n",
       "      <th></th>\n",
       "      <th>ANO</th>\n",
       "      <th>OBITO_TOTAL</th>\n",
       "      <th>OBITO_CANCER</th>\n",
       "      <th>PERCENTUAL</th>\n",
       "    </tr>\n",
       "  </thead>\n",
       "  <tbody>\n",
       "    <tr>\n",
       "      <th>0</th>\n",
       "      <td>1979</td>\n",
       "      <td>371490</td>\n",
       "      <td>3465</td>\n",
       "      <td>0.93</td>\n",
       "    </tr>\n",
       "    <tr>\n",
       "      <th>1</th>\n",
       "      <td>1980</td>\n",
       "      <td>375821</td>\n",
       "      <td>3683</td>\n",
       "      <td>0.98</td>\n",
       "    </tr>\n",
       "    <tr>\n",
       "      <th>2</th>\n",
       "      <td>1981</td>\n",
       "      <td>373917</td>\n",
       "      <td>3868</td>\n",
       "      <td>1.03</td>\n",
       "    </tr>\n",
       "    <tr>\n",
       "      <th>3</th>\n",
       "      <td>1982</td>\n",
       "      <td>368409</td>\n",
       "      <td>3959</td>\n",
       "      <td>1.07</td>\n",
       "    </tr>\n",
       "    <tr>\n",
       "      <th>4</th>\n",
       "      <td>1983</td>\n",
       "      <td>374795</td>\n",
       "      <td>4207</td>\n",
       "      <td>1.12</td>\n",
       "    </tr>\n",
       "    <tr>\n",
       "      <th>5</th>\n",
       "      <td>1984</td>\n",
       "      <td>387720</td>\n",
       "      <td>4382</td>\n",
       "      <td>1.13</td>\n",
       "    </tr>\n",
       "    <tr>\n",
       "      <th>6</th>\n",
       "      <td>1985</td>\n",
       "      <td>387694</td>\n",
       "      <td>4517</td>\n",
       "      <td>1.17</td>\n",
       "    </tr>\n",
       "    <tr>\n",
       "      <th>7</th>\n",
       "      <td>1986</td>\n",
       "      <td>397897</td>\n",
       "      <td>4669</td>\n",
       "      <td>1.17</td>\n",
       "    </tr>\n",
       "    <tr>\n",
       "      <th>8</th>\n",
       "      <td>1987</td>\n",
       "      <td>395126</td>\n",
       "      <td>4947</td>\n",
       "      <td>1.25</td>\n",
       "    </tr>\n",
       "    <tr>\n",
       "      <th>9</th>\n",
       "      <td>1988</td>\n",
       "      <td>416655</td>\n",
       "      <td>5131</td>\n",
       "      <td>1.23</td>\n",
       "    </tr>\n",
       "    <tr>\n",
       "      <th>10</th>\n",
       "      <td>1989</td>\n",
       "      <td>413124</td>\n",
       "      <td>5456</td>\n",
       "      <td>1.32</td>\n",
       "    </tr>\n",
       "    <tr>\n",
       "      <th>11</th>\n",
       "      <td>1990</td>\n",
       "      <td>419254</td>\n",
       "      <td>5896</td>\n",
       "      <td>1.41</td>\n",
       "    </tr>\n",
       "    <tr>\n",
       "      <th>12</th>\n",
       "      <td>1991</td>\n",
       "      <td>408096</td>\n",
       "      <td>5901</td>\n",
       "      <td>1.45</td>\n",
       "    </tr>\n",
       "    <tr>\n",
       "      <th>13</th>\n",
       "      <td>1992</td>\n",
       "      <td>419642</td>\n",
       "      <td>6274</td>\n",
       "      <td>1.50</td>\n",
       "    </tr>\n",
       "    <tr>\n",
       "      <th>14</th>\n",
       "      <td>1993</td>\n",
       "      <td>445146</td>\n",
       "      <td>6471</td>\n",
       "      <td>1.45</td>\n",
       "    </tr>\n",
       "    <tr>\n",
       "      <th>15</th>\n",
       "      <td>1994</td>\n",
       "      <td>452833</td>\n",
       "      <td>7114</td>\n",
       "      <td>1.57</td>\n",
       "    </tr>\n",
       "    <tr>\n",
       "      <th>16</th>\n",
       "      <td>1995</td>\n",
       "      <td>456256</td>\n",
       "      <td>7231</td>\n",
       "      <td>1.58</td>\n",
       "    </tr>\n",
       "    <tr>\n",
       "      <th>17</th>\n",
       "      <td>1996</td>\n",
       "      <td>467766</td>\n",
       "      <td>7693</td>\n",
       "      <td>1.64</td>\n",
       "    </tr>\n",
       "    <tr>\n",
       "      <th>18</th>\n",
       "      <td>1997</td>\n",
       "      <td>460057</td>\n",
       "      <td>8222</td>\n",
       "      <td>1.79</td>\n",
       "    </tr>\n",
       "    <tr>\n",
       "      <th>19</th>\n",
       "      <td>1998</td>\n",
       "      <td>462719</td>\n",
       "      <td>8568</td>\n",
       "      <td>1.85</td>\n",
       "    </tr>\n",
       "    <tr>\n",
       "      <th>20</th>\n",
       "      <td>1999</td>\n",
       "      <td>467149</td>\n",
       "      <td>8643</td>\n",
       "      <td>1.85</td>\n",
       "    </tr>\n",
       "    <tr>\n",
       "      <th>21</th>\n",
       "      <td>2000</td>\n",
       "      <td>463948</td>\n",
       "      <td>8694</td>\n",
       "      <td>1.87</td>\n",
       "    </tr>\n",
       "    <tr>\n",
       "      <th>22</th>\n",
       "      <td>2001</td>\n",
       "      <td>465471</td>\n",
       "      <td>9284</td>\n",
       "      <td>1.99</td>\n",
       "    </tr>\n",
       "    <tr>\n",
       "      <th>23</th>\n",
       "      <td>2002</td>\n",
       "      <td>470221</td>\n",
       "      <td>9506</td>\n",
       "      <td>2.02</td>\n",
       "    </tr>\n",
       "    <tr>\n",
       "      <th>24</th>\n",
       "      <td>2003</td>\n",
       "      <td>479735</td>\n",
       "      <td>9902</td>\n",
       "      <td>2.06</td>\n",
       "    </tr>\n",
       "    <tr>\n",
       "      <th>25</th>\n",
       "      <td>2004</td>\n",
       "      <td>487492</td>\n",
       "      <td>10447</td>\n",
       "      <td>2.14</td>\n",
       "    </tr>\n",
       "    <tr>\n",
       "      <th>26</th>\n",
       "      <td>2005</td>\n",
       "      <td>475801</td>\n",
       "      <td>10720</td>\n",
       "      <td>2.25</td>\n",
       "    </tr>\n",
       "    <tr>\n",
       "      <th>27</th>\n",
       "      <td>2006</td>\n",
       "      <td>493850</td>\n",
       "      <td>10777</td>\n",
       "      <td>2.18</td>\n",
       "    </tr>\n",
       "    <tr>\n",
       "      <th>28</th>\n",
       "      <td>2007</td>\n",
       "      <td>495877</td>\n",
       "      <td>11259</td>\n",
       "      <td>2.27</td>\n",
       "    </tr>\n",
       "    <tr>\n",
       "      <th>29</th>\n",
       "      <td>2008</td>\n",
       "      <td>504984</td>\n",
       "      <td>11828</td>\n",
       "      <td>2.34</td>\n",
       "    </tr>\n",
       "    <tr>\n",
       "      <th>30</th>\n",
       "      <td>2009</td>\n",
       "      <td>515214</td>\n",
       "      <td>11825</td>\n",
       "      <td>2.30</td>\n",
       "    </tr>\n",
       "    <tr>\n",
       "      <th>31</th>\n",
       "      <td>2010</td>\n",
       "      <td>534495</td>\n",
       "      <td>12318</td>\n",
       "      <td>2.30</td>\n",
       "    </tr>\n",
       "    <tr>\n",
       "      <th>32</th>\n",
       "      <td>2011</td>\n",
       "      <td>541518</td>\n",
       "      <td>12547</td>\n",
       "      <td>2.32</td>\n",
       "    </tr>\n",
       "    <tr>\n",
       "      <th>33</th>\n",
       "      <td>2012</td>\n",
       "      <td>543383</td>\n",
       "      <td>13002</td>\n",
       "      <td>2.39</td>\n",
       "    </tr>\n",
       "    <tr>\n",
       "      <th>34</th>\n",
       "      <td>2013</td>\n",
       "      <td>554513</td>\n",
       "      <td>13121</td>\n",
       "      <td>2.37</td>\n",
       "    </tr>\n",
       "    <tr>\n",
       "      <th>35</th>\n",
       "      <td>2014</td>\n",
       "      <td>562401</td>\n",
       "      <td>13440</td>\n",
       "      <td>2.39</td>\n",
       "    </tr>\n",
       "    <tr>\n",
       "      <th>36</th>\n",
       "      <td>2015</td>\n",
       "      <td>573965</td>\n",
       "      <td>13858</td>\n",
       "      <td>2.41</td>\n",
       "    </tr>\n",
       "    <tr>\n",
       "      <th>37</th>\n",
       "      <td>2016</td>\n",
       "      <td>595573</td>\n",
       "      <td>14582</td>\n",
       "      <td>2.45</td>\n",
       "    </tr>\n",
       "    <tr>\n",
       "      <th>38</th>\n",
       "      <td>2017</td>\n",
       "      <td>593692</td>\n",
       "      <td>14937</td>\n",
       "      <td>2.52</td>\n",
       "    </tr>\n",
       "    <tr>\n",
       "      <th>39</th>\n",
       "      <td>2018</td>\n",
       "      <td>598138</td>\n",
       "      <td>15474</td>\n",
       "      <td>2.59</td>\n",
       "    </tr>\n",
       "  </tbody>\n",
       "</table>\n",
       "</div>"
      ],
      "text/plain": [
       "     ANO  OBITO_TOTAL  OBITO_CANCER  PERCENTUAL\n",
       "0   1979       371490          3465        0.93\n",
       "1   1980       375821          3683        0.98\n",
       "2   1981       373917          3868        1.03\n",
       "3   1982       368409          3959        1.07\n",
       "4   1983       374795          4207        1.12\n",
       "5   1984       387720          4382        1.13\n",
       "6   1985       387694          4517        1.17\n",
       "7   1986       397897          4669        1.17\n",
       "8   1987       395126          4947        1.25\n",
       "9   1988       416655          5131        1.23\n",
       "10  1989       413124          5456        1.32\n",
       "11  1990       419254          5896        1.41\n",
       "12  1991       408096          5901        1.45\n",
       "13  1992       419642          6274        1.50\n",
       "14  1993       445146          6471        1.45\n",
       "15  1994       452833          7114        1.57\n",
       "16  1995       456256          7231        1.58\n",
       "17  1996       467766          7693        1.64\n",
       "18  1997       460057          8222        1.79\n",
       "19  1998       462719          8568        1.85\n",
       "20  1999       467149          8643        1.85\n",
       "21  2000       463948          8694        1.87\n",
       "22  2001       465471          9284        1.99\n",
       "23  2002       470221          9506        2.02\n",
       "24  2003       479735          9902        2.06\n",
       "25  2004       487492         10447        2.14\n",
       "26  2005       475801         10720        2.25\n",
       "27  2006       493850         10777        2.18\n",
       "28  2007       495877         11259        2.27\n",
       "29  2008       504984         11828        2.34\n",
       "30  2009       515214         11825        2.30\n",
       "31  2010       534495         12318        2.30\n",
       "32  2011       541518         12547        2.32\n",
       "33  2012       543383         13002        2.39\n",
       "34  2013       554513         13121        2.37\n",
       "35  2014       562401         13440        2.39\n",
       "36  2015       573965         13858        2.41\n",
       "37  2016       595573         14582        2.45\n",
       "38  2017       593692         14937        2.52\n",
       "39  2018       598138         15474        2.59"
      ]
     },
     "execution_count": 40,
     "metadata": {},
     "output_type": "execute_result"
    }
   ],
   "source": [
    "df.sample(40).sort_values(\"ANO\")"
   ]
  },
  {
   "cell_type": "code",
   "execution_count": 41,
   "metadata": {
    "scrolled": true
   },
   "outputs": [
    {
     "data": {
      "text/html": [
       "<div>\n",
       "<style scoped>\n",
       "    .dataframe tbody tr th:only-of-type {\n",
       "        vertical-align: middle;\n",
       "    }\n",
       "\n",
       "    .dataframe tbody tr th {\n",
       "        vertical-align: top;\n",
       "    }\n",
       "\n",
       "    .dataframe thead th {\n",
       "        text-align: right;\n",
       "    }\n",
       "</style>\n",
       "<table border=\"1\" class=\"dataframe\">\n",
       "  <thead>\n",
       "    <tr style=\"text-align: right;\">\n",
       "      <th></th>\n",
       "      <th>ANO</th>\n",
       "      <th>OBITO_TOTAL</th>\n",
       "      <th>OBITO_CANCER</th>\n",
       "      <th>PERCENTUAL</th>\n",
       "    </tr>\n",
       "  </thead>\n",
       "  <tbody>\n",
       "    <tr>\n",
       "      <th>count</th>\n",
       "      <td>40.000000</td>\n",
       "      <td>40.000000</td>\n",
       "      <td>40.000000</td>\n",
       "      <td>40.000000</td>\n",
       "    </tr>\n",
       "    <tr>\n",
       "      <th>mean</th>\n",
       "      <td>1998.500000</td>\n",
       "      <td>466795.925000</td>\n",
       "      <td>8695.450000</td>\n",
       "      <td>1.791250</td>\n",
       "    </tr>\n",
       "    <tr>\n",
       "      <th>std</th>\n",
       "      <td>11.690452</td>\n",
       "      <td>68135.176657</td>\n",
       "      <td>3634.563734</td>\n",
       "      <td>0.521208</td>\n",
       "    </tr>\n",
       "    <tr>\n",
       "      <th>min</th>\n",
       "      <td>1979.000000</td>\n",
       "      <td>368409.000000</td>\n",
       "      <td>3465.000000</td>\n",
       "      <td>0.930000</td>\n",
       "    </tr>\n",
       "    <tr>\n",
       "      <th>25%</th>\n",
       "      <td>1988.750000</td>\n",
       "      <td>411867.000000</td>\n",
       "      <td>5374.750000</td>\n",
       "      <td>1.302500</td>\n",
       "    </tr>\n",
       "    <tr>\n",
       "      <th>50%</th>\n",
       "      <td>1998.500000</td>\n",
       "      <td>464709.500000</td>\n",
       "      <td>8605.500000</td>\n",
       "      <td>1.850000</td>\n",
       "    </tr>\n",
       "    <tr>\n",
       "      <th>75%</th>\n",
       "      <td>2008.250000</td>\n",
       "      <td>507541.500000</td>\n",
       "      <td>11825.750000</td>\n",
       "      <td>2.300000</td>\n",
       "    </tr>\n",
       "    <tr>\n",
       "      <th>max</th>\n",
       "      <td>2018.000000</td>\n",
       "      <td>598138.000000</td>\n",
       "      <td>15474.000000</td>\n",
       "      <td>2.590000</td>\n",
       "    </tr>\n",
       "  </tbody>\n",
       "</table>\n",
       "</div>"
      ],
      "text/plain": [
       "               ANO    OBITO_TOTAL  OBITO_CANCER  PERCENTUAL\n",
       "count    40.000000      40.000000     40.000000   40.000000\n",
       "mean   1998.500000  466795.925000   8695.450000    1.791250\n",
       "std      11.690452   68135.176657   3634.563734    0.521208\n",
       "min    1979.000000  368409.000000   3465.000000    0.930000\n",
       "25%    1988.750000  411867.000000   5374.750000    1.302500\n",
       "50%    1998.500000  464709.500000   8605.500000    1.850000\n",
       "75%    2008.250000  507541.500000  11825.750000    2.300000\n",
       "max    2018.000000  598138.000000  15474.000000    2.590000"
      ]
     },
     "execution_count": 41,
     "metadata": {},
     "output_type": "execute_result"
    }
   ],
   "source": [
    "df.describe()"
   ]
  },
  {
   "cell_type": "code",
   "execution_count": 42,
   "metadata": {},
   "outputs": [
    {
     "data": {
      "text/plain": [
       "ANO\n",
       "1982    368409\n",
       "1979    371490\n",
       "1981    373917\n",
       "1983    374795\n",
       "1980    375821\n",
       "1985    387694\n",
       "1984    387720\n",
       "1987    395126\n",
       "1986    397897\n",
       "1991    408096\n",
       "1989    413124\n",
       "1988    416655\n",
       "1990    419254\n",
       "1992    419642\n",
       "1993    445146\n",
       "1994    452833\n",
       "1995    456256\n",
       "1997    460057\n",
       "1998    462719\n",
       "2000    463948\n",
       "2001    465471\n",
       "1999    467149\n",
       "1996    467766\n",
       "2002    470221\n",
       "2005    475801\n",
       "2003    479735\n",
       "2004    487492\n",
       "2006    493850\n",
       "2007    495877\n",
       "2008    504984\n",
       "2009    515214\n",
       "2010    534495\n",
       "2011    541518\n",
       "2012    543383\n",
       "2013    554513\n",
       "2014    562401\n",
       "2015    573965\n",
       "2017    593692\n",
       "2016    595573\n",
       "2018    598138\n",
       "Name: OBITO_TOTAL, dtype: int64"
      ]
     },
     "execution_count": 42,
     "metadata": {},
     "output_type": "execute_result"
    }
   ],
   "source": [
    "df.groupby(\"ANO\")[\"OBITO_TOTAL\"].max().sort_values(ascending=True)"
   ]
  },
  {
   "cell_type": "code",
   "execution_count": 43,
   "metadata": {
    "scrolled": false
   },
   "outputs": [
    {
     "data": {
      "text/plain": [
       "<matplotlib.legend.Legend at 0xb3ef750>"
      ]
     },
     "execution_count": 43,
     "metadata": {},
     "output_type": "execute_result"
    },
    {
     "data": {
      "image/png": "[encoded data removed]",
      "text/plain": [
       "<Figure size 432x288 with 1 Axes>"
      ]
     },
     "metadata": {
      "needs_background": "light"
     },
     "output_type": "display_data"
    }
   ],
   "source": [
    "df.groupby(\"ANO\")[\"OBITO_TOTAL\"].max().sort_values().plot(kind=\"bar\")\n",
    "plt.title('Total de Mortes', fontsize=14)\n",
    "plt.ylabel('Mortes', fontsize=11)\n",
    "plt.legend((\"Mortes no Ano\",))"
   ]
  },
  {
   "cell_type": "code",
   "execution_count": 44,
   "metadata": {},
   "outputs": [
    {
     "data": {
      "text/plain": [
       "OBITO_TOTAL\n",
       "598138    15474\n",
       "593692    14937\n",
       "595573    14582\n",
       "573965    13858\n",
       "562401    13440\n",
       "554513    13121\n",
       "543383    13002\n",
       "541518    12547\n",
       "534495    12318\n",
       "504984    11828\n",
       "515214    11825\n",
       "495877    11259\n",
       "493850    10777\n",
       "475801    10720\n",
       "487492    10447\n",
       "479735     9902\n",
       "470221     9506\n",
       "465471     9284\n",
       "463948     8694\n",
       "467149     8643\n",
       "462719     8568\n",
       "460057     8222\n",
       "467766     7693\n",
       "456256     7231\n",
       "452833     7114\n",
       "445146     6471\n",
       "419642     6274\n",
       "408096     5901\n",
       "419254     5896\n",
       "413124     5456\n",
       "416655     5131\n",
       "395126     4947\n",
       "397897     4669\n",
       "387694     4517\n",
       "387720     4382\n",
       "374795     4207\n",
       "368409     3959\n",
       "373917     3868\n",
       "375821     3683\n",
       "371490     3465\n",
       "Name: OBITO_CANCER, dtype: int64"
      ]
     },
     "execution_count": 44,
     "metadata": {},
     "output_type": "execute_result"
    }
   ],
   "source": [
    "df.groupby(\"OBITO_TOTAL\")[\"OBITO_CANCER\"].max().sort_values(ascending=False)"
   ]
  },
  {
   "cell_type": "code",
   "execution_count": 45,
   "metadata": {
    "scrolled": true
   },
   "outputs": [
    {
     "data": {
      "text/plain": [
       "Text(0.5, 0, 'Mortes Por Câncer')"
      ]
     },
     "execution_count": 45,
     "metadata": {},
     "output_type": "execute_result"
    },
    {
     "data": {
      "image/png": "[encoded data removed]",
      "text/plain": [
       "<Figure size 432x288 with 1 Axes>"
      ]
     },
     "metadata": {
      "needs_background": "light"
     },
     "output_type": "display_data"
    }
   ],
   "source": [
    "df.groupby(\"OBITO_TOTAL\")[\"OBITO_CANCER\"].max().sort_values().head(15).plot(kind=\"barh\")\n",
    "plt.title('Total de Mortes Por Câncer (1979 - 1993)', fontsize=14)\n",
    "plt.xlabel('Mortes Por Câncer', fontsize=11)"
   ]
  },
  {
   "cell_type": "code",
   "execution_count": 46,
   "metadata": {
    "scrolled": false
   },
   "outputs": [
    {
     "data": {
      "text/plain": [
       "Text(0.5, 0, 'Mortes Por Câncer')"
      ]
     },
     "execution_count": 46,
     "metadata": {},
     "output_type": "execute_result"
    },
    {
     "data": {
      "image/png": "[encoded data removed]",
      "text/plain": [
       "<Figure size 432x288 with 1 Axes>"
      ]
     },
     "metadata": {
      "needs_background": "light"
     },
     "output_type": "display_data"
    }
   ],
   "source": [
    "df.groupby(\"OBITO_TOTAL\")[\"OBITO_CANCER\"].max().sort_values().tail(15).plot(kind=\"barh\")\n",
    "plt.title('Total de Mortes Por Câncer (2003 - 2018)', fontsize=14)\n",
    "plt.xlabel('Mortes Por Câncer', fontsize=11)"
   ]
  },
  {
   "cell_type": "code",
   "execution_count": 47,
   "metadata": {},
   "outputs": [
    {
     "data": {
      "text/plain": [
       "<matplotlib.legend.Legend at 0x6996090>"
      ]
     },
     "execution_count": 47,
     "metadata": {},
     "output_type": "execute_result"
    },
    {
     "data": {
      "image/png": "[encoded data removed]",
      "text/plain": [
       "<Figure size 432x288 with 1 Axes>"
      ]
     },
     "metadata": {
      "needs_background": "light"
     },
     "output_type": "display_data"
    }
   ],
   "source": [
    "df.groupby(\"ANO\")[\"PERCENTUAL\"].max().sort_values().plot(kind=\"bar\")\n",
    "plt.title('Percentual de Mortes por Câncer', fontsize=14)\n",
    "plt.ylabel('PERCENTUAL', fontsize=11)\n",
    "plt.legend((\"PERCENTUAL POR ANO\",))"
   ]
  },
  {
   "cell_type": "code",
   "execution_count": null,
   "metadata": {},
   "outputs": [],
   "source": []
  },
  {
   "cell_type": "code",
   "execution_count": null,
   "metadata": {},
   "outputs": [],
   "source": []
  }
 ],
 "metadata": {
  "kernelspec": {
   "display_name": "Python 3",
   "language": "python",
   "name": "python3"
  },
  "language_info": {
   "codemirror_mode": {
    "name": "ipython",
    "version": 3
   },
   "file_extension": ".py",
   "mimetype": "text/x-python",
   "name": "python",
   "nbconvert_exporter": "python",
   "pygments_lexer": "ipython3",
   "version": "3.7.2"
  }
 },
 "nbformat": 4,
 "nbformat_minor": 2
}
